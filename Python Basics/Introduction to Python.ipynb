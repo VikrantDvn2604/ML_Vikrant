{
 "cells": [
  {
   "cell_type": "markdown",
   "metadata": {},
   "source": [
    "**Questions:**\n",
    "1) Given a string of even length, write a function that would take a string and return the first half. For example: \"Helper\" would return \"Hel\". (10 Marks)\n",
    "\n",
    "2) Write function that would accept an integer value (say n) and for all numbers from 1 to that integer value, it would create a dictionary whose each element would be of the format (i,i*i*i).For example, for n = 4, you would create {1:1, 2:8, 3:27, 4:64}\n",
    "(10 Marks)\n",
    "\n",
    "3) Write a function that receives a size (say n), and two numbers (low and high) and returns a list of n random numbers in the given range. (15 Marks)\n",
    "\n",
    "4) You are given a string of text. Clean the text to remove for any punctuations, extra white spaces, tab characters and count the number of words within the text. After this, count the unique number of words in a text and the frequency of occurrence of each word in that text. Finally, you are provided a dictionary. Using the dictionary, count the words and frequency of words in the dictionary that occur in text. (25 Marks)\n"
   ]
  },
  {
   "cell_type": "markdown",
   "metadata": {},
   "source": [
    "**Text:**\n",
    "\n",
    "Why Apple Is In My Retirement Portfolio\n",
    "\n",
    "Summary\n",
    "\n",
    "Apple is a rare bird of a stock. It offers shareholders enormous growth, and could potentially become the next great dividend stock.\n",
    "The company is the largest &&&&&& public company in the world, surpassing Exxon Mobil.\n",
    "The raw fundamentals of this company are virtually incomparable.\n",
    "Over the last several years, I have been all over the board when it comes to Apple (AAPL). During its parabolic  ------  ----- - - - - - rise in price about 2 years ago, I wrote several articles urging investors to take some chips off the table, and then when it hit some low points, I suggested it might be time to buy the stock, which I did, but not just for my growth portfolio. The stock seemed to have become a value stock with a rather strong + + + + + + dividend, so I placed it in 3 of my portfolios, and have held it ever since in 2 of the 3 portfolios I currently manage.\n",
    "\n",
    "As of several months ago, I added APPL to my newest retirement portfolio, \"Buy The Dips Portfolio\", or BTDP. The stock is now [ [ [ [ [  going to be held for the very long term in at least 3 out of 4 of my various portfolios, mainly for dividend income investors, but with an eye towards another strong round of growth.\n",
    "\n",
    "Apple Is More Than A Reborn Growth Stock, It Is Also A Future Dividend Champion\n",
    "\n",
    "The recent shareholder-friendly moves ] ] ] ] ] ] that Apple has made should ignite even more intense interest in the stock for both dividend-seeking investors, as well as for growth investors.\n",
    "\n"
   ]
  },
  {
   "cell_type": "markdown",
   "metadata": {},
   "source": [
    "\n",
    "\n",
    "5) Consider the airline dataset (AirlineData.csv) attached. This dataset contains observations on airlines and the planes they own and use. Following are the fields in the dataset: (40 Marks)\n",
    "\n",
    "Parent Airline: e.g IAG\n",
    "\n",
    "Airline: specific airlines that are owned by parent airline\n",
    "\n",
    "Aircraft Type: Manufacturer & Model\n",
    "\n",
    "Current: Quantity of airplanes in Operation\n",
    "\n",
    "Future: Quantity of airplanes on order (to be used in future)\n",
    "\n",
    "Unit Cost: Average unit cost ($M) of Aircraft Type\n",
    "\n",
    "Total Cost: Current quantity * Unit Cost ($M)\n",
    "\n",
    "Average Age: Average age of \"Current\" airplanes by \"Aircraft Type\"\n",
    "\n",
    "\n",
    "Using the dataset, perform an exploratory data analysis (EDA). Remember that this is an open ended question, and while there are no certain yardsticks for EDA you should at a minimum try and check data summaries (five point summary and describe), check out missing values, outliers in dataset, distributions, and basic plots so as to familiarize yourself with the dataset. While you are running the code, also note down your observations about the dataset and outputs. Finally, address the following questions:\n",
    "\n",
    "a) To which airline do the largest current fleet belongs to?\n",
    "\n",
    "b) Which airline is planning to induct highest number of airplanes?\n",
    "\n",
    "c) What is generally the distribution of planes (in terms of cost) that the airlines have? You do not have to be very specific here but generally try to find out what proportion of high, low, medium cost planes do airlines have in their fleet? You can try and put planes into high, low, and medium bucket based on their costs.\n",
    "\n",
    "d) Amongst the new orders, how much of the new orders are for A380 and how many are for Dreamliner 787? Do we see a clear winner here? Also, how many airlines are ordering these planes? Do some airlines have clear preferences for either of these planes?\n"
   ]
  },
  {
   "cell_type": "markdown",
   "metadata": {},
   "source": [
    "Vikrant Dhawan\n",
    "12110001"
   ]
  },
  {
   "cell_type": "code",
   "execution_count": 11,
   "metadata": {},
   "outputs": [
    {
     "name": "stdout",
     "output_type": "stream",
     "text": [
      "The first half is: Hel\n",
      "Please enter string of even length\n"
     ]
    }
   ],
   "source": [
    "#1) Given a string of even length, write a function that would take a string and return the first half. For example: \"Helper\" would return \"Hel\". (10 Marks)\n",
    "\n",
    "def func(x):\n",
    " a = len(x)\n",
    " if a%2==1:\n",
    "    print(\"Please enter string of even length\")\n",
    " else:\n",
    "    b=int(a/2)\n",
    "    print('The first half is:',x[0:b])\n",
    "\n",
    "\n",
    "#Check\n",
    "func(\"Helper\")\n",
    "func(\"Vikrant\")\n",
    "\n",
    "\n"
   ]
  },
  {
   "cell_type": "code",
   "execution_count": 48,
   "metadata": {},
   "outputs": [
    {
     "name": "stdout",
     "output_type": "stream",
     "text": [
      "The final dictionary is: {1: 1, 2: 8, 3: 27, 4: 64}\n"
     ]
    }
   ],
   "source": [
    "#2.Write function that would accept an integer value (say n) and for all numbers from 1 to that integer value, it would create a dictionary whose each element would be of the format (i,iii).For example, for n = 4, you would create {1:1, 2:8, 3:27, 4:64} (10 Marks)\n",
    "\n",
    "def func2(n):\n",
    " d = {}   \n",
    " if type(n) != int:\n",
    "    return(\"please enter numeric value\")\n",
    "    \n",
    " else:\n",
    "    \n",
    "    for i in range(1,n+1,1):\n",
    "        d[i] = i**3\n",
    "        \n",
    " print(\"The final dictionary is:\",d)\n",
    "\n",
    "#Check\n",
    "func2(4)\n",
    "\n"
   ]
  },
  {
   "cell_type": "code",
   "execution_count": 117,
   "metadata": {},
   "outputs": [
    {
     "name": "stdout",
     "output_type": "stream",
     "text": [
      "[50, 82, 31, 87, 85, 75, 23, 98, 47, 49]\n"
     ]
    }
   ],
   "source": [
    "#3) Write a function that receives a size (say n), and two numbers (low and high) and returns a list of n random numbers in the given range. (15 Marks)\n",
    "\n",
    "import numpy as np\n",
    "\n",
    "def func3(n=5,low=10,high=20):\n",
    "    list1 = list(range(low,high+1,1))\n",
    "    list2 =list(np.random.randint(low,high,n))\n",
    "    print(list2)\n",
    "        \n",
    "\n",
    "#check()    \n",
    "func3(10,20,100)"
   ]
  },
  {
   "cell_type": "code",
   "execution_count": null,
   "metadata": {},
   "outputs": [],
   "source": [
    "np.random.randint("
   ]
  },
  {
   "cell_type": "code",
   "execution_count": 96,
   "metadata": {},
   "outputs": [
    {
     "name": "stdout",
     "output_type": "stream",
     "text": [
      "the number of words in text( including numbers as seprate words) is  259\n",
      "the number of UNIQUE words in text( including numbers as seprate words) is  143\n",
      "The final dictionary with words and word count is : \n",
      " {'hit': 1, 'newest': 1, 'when': 2, 'also': 1, 'stock': 8, 'which': 1, 'dividendseeking': 1, 'public': 1, 'or': 1, 'an': 1, 'just': 1, 'virtually': 1, 'several': 3, 'various': 1, 'for': 5, 'comes': 1, 'that': 1, 'with': 2, 'been': 1, 'another': 1, 'last': 1, '2': 2, '3': 3, 'investors': 4, 'and': 3, 'seemed': 1, 'a': 6, 'recent': 1, 'time': 1, 'about': 1, 'ignite': 1, 'mainly': 1, 'years': 2, 'might': 1, 'in': 7, 'raw': 1, 'to': 6, 'have': 3, 'next': 1, 'champion': 1, 'become': 2, 'did': 1, 'surpassing': 1, 'take': 1, 'reborn': 1, 'retirement': 2, 'moves': 1, 'very': 1, 'now': 1, 'dividend': 4, 'eye': 1, 'largest': 1, 'mobil': 1, 'dips': 1, 'term': 1, 'rare': 1, 'held': 2, 'over': 2, 'not': 1, 'table': 1, 'rather': 1, 'appl': 1, 'chips': 1, 'incomparable': 1, 'interest': 1, 'wrote': 1, 'has': 1, 'least': 1, 'well': 1, '4': 1, 'at': 1, 'going': 1, 'company': 3, 'of': 8, 'board': 1, 'should': 1, 'world': 1, 'aapl': 1, 'suggested': 1, 'are': 1, 'value': 1, 'btdp': 1, 'round': 1, 'articles': 1, 'why': 1, 'future': 1, 'strong': 2, 'months': 1, 'ago': 2, 'buy': 2, 'than': 1, 'some': 2, 'manage': 1, 'be': 2, 'exxon': 1, 'summary': 1, 'so': 1, 'low': 1, 'shareholderfriendly': 1, 'great': 1, 'placed': 1, 'price': 1, 'apple': 5, 'urging': 1, 'growth': 5, 'potentially': 1, 'during': 1, 'could': 1, 'is': 6, 'currently': 1, 'towards': 1, 'parabolic': 1, 'off': 1, 'enormous': 1, 'fundamentals': 1, 'i': 7, 'offers': 1, 'more': 2, 'all': 1, 'but': 2, 'its': 1, 'points': 1, 'portfolios': 3, 'long': 1, 'rise': 1, 'as': 3, 'ever': 1, 'portfolio': 4, 'then': 1, 'since': 1, 'added': 1, 'bird': 1, 'it': 7, 'intense': 1, 'out': 1, 'shareholders': 1, 'the': 16, 'my': 5, 'income': 1, 'this': 1, 'made': 1, 'even': 1, 'both': 1}\n"
     ]
    }
   ],
   "source": [
    "#4) You are given a string of text. Clean the text to remove for any punctuations, extra white spaces, tab characters and count the number of words within the text. After this, count the unique number of words in a text and the frequency of occurrence of each word in that text. Finally, you are provided a dictionary. Using the dictionary, count the words and frequency of words in the dictionary that occur in text. (25 Marks)\n",
    "\n",
    "\n",
    "text = ' Why Apple Is In My Retirement Portfolio Summary Apple is a rare bird of a stock. It offers shareholders enormous growth, and could potentially become the next great dividend stock. The company is the largest &&&&&& public company in the world, surpassing Exxon Mobil. The raw fundamentals of this company are virtually incomparable. Over the last several years, I have been all over the board when it comes to Apple (AAPL). During its parabolic ------ ----- - - - - - rise in price about 2 years ago, I wrote several articles urging investors to take some chips off the table, and then when it hit some low points, I suggested it might be time to buy the stock, which I did, but not just for my growth portfolio. The stock seemed to have become a value stock with a rather strong + + + + + + dividend, so I placed it in 3 of my portfolios, and have held it ever since in 2 of the 3 portfolios I currently manage. As of several months ago, I added APPL to my newest retirement portfolio, \"Buy The Dips Portfolio\", or BTDP. The stock is now [ [ [ [ [ going to be held for the very long term in at least 3 out of 4 of my various portfolios, mainly for dividend income investors, but with an eye towards another strong round of growth. Apple Is More Than A Reborn Growth Stock, It Is Also A Future Dividend Champion The recent shareholder-friendly moves ] ] ] ] ] ] that Apple has made should ignite even more intense interest in the stock for both dividend-seeking investors, as well as for growth investors.'\n",
    "\n",
    "import string\n",
    "\n",
    "\n",
    "#removing puctuations\n",
    "text1 = \"\"\n",
    "for i in text:\n",
    "    if i in string.punctuation:\n",
    "        text1 = text1 + \"\"\n",
    "    else:\n",
    "        text1 = text1 + i\n",
    "        \n",
    "#removing white spaces\n",
    "text2 = \"\"\n",
    "for i in text1:\n",
    "    if i in string.whitespace[1:4]:\n",
    "        text2 = text2 + \"\"\n",
    "    else:\n",
    "        text2 = text2 + i\n",
    "        \n",
    "#converting all the words in lowercase:\n",
    "text3 = text2.lower()\n",
    "     \n",
    "#split the string\n",
    "list1 = text3.split()\n",
    "list1.sort()\n",
    "\n",
    "print( \"the number of words in text( including numbers as seprate words) is \", len(list1))\n",
    "\n",
    "#counting unique words\n",
    "set1 = set(list1)\n",
    "set1\n",
    "\n",
    "print( \"the number of UNIQUE words in text( including numbers as seprate words) is \", len(set1))\n",
    "\n",
    "d = {}\n",
    "for i in set1:\n",
    "    c=0\n",
    "    for j in list1:\n",
    "        if i==j:\n",
    "         c=c+1\n",
    "    d[i]=c\n",
    "        \n",
    "print(\"The final dictionary with words and word count is : \\n\", d)\n",
    "\n",
    "\n",
    "        \n",
    "        \n",
    "\n"
   ]
  },
  {
   "cell_type": "code",
   "execution_count": 118,
   "metadata": {},
   "outputs": [
    {
     "data": {
      "text/plain": [
       "' \\t\\n\\r\\x0b\\x0c'"
      ]
     },
     "execution_count": 118,
     "metadata": {},
     "output_type": "execute_result"
    }
   ],
   "source": [
    "string.whitespace"
   ]
  },
  {
   "cell_type": "code",
   "execution_count": null,
   "metadata": {},
   "outputs": [],
   "source": [
    "Curren"
   ]
  }
 ],
 "metadata": {
  "kernelspec": {
   "display_name": "Python 3",
   "language": "python",
   "name": "python3"
  },
  "language_info": {
   "codemirror_mode": {
    "name": "ipython",
    "version": 3
   },
   "file_extension": ".py",
   "mimetype": "text/x-python",
   "name": "python",
   "nbconvert_exporter": "python",
   "pygments_lexer": "ipython3",
   "version": "3.8.8"
  }
 },
 "nbformat": 4,
 "nbformat_minor": 4
}
