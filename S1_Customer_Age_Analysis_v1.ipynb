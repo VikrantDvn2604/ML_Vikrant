{
 "cells": [
  {
   "cell_type": "markdown",
   "metadata": {
    "id": "GaT7Vud12KMc"
   },
   "source": [
    "# Distribution and Outlier Detection\n",
    "\n",
    "##  Objective\n",
    "\n",
    "### The key statistical concepts that will be explored this notebook are:\n",
    "\n",
    "- Confidence Interval\n",
    "- Outliers detection using standard deviation approach\n",
    "- Outliers detection using box plot approach\n",
    "\n",
    "### Problem Description\n",
    "\n",
    "A retain chain ABC want to understand the distribution of demographics of customers to design and run few promotional campaigns. One of the demograhic attribute is age. To understand what age of customers mostly buy the its stores, it runs a survey and collects age of hunderds of customers randomly.\n",
    "\n",
    "1. How to find out most of the customers are from which age group?\n",
    "2. How many different campaigns might be required to be designed?\n",
    "3. Are there any unusual behavior observed? (i.e. customers with different age groups rarely expected are visisting the stores)\n",
    "\n",
    "### Dataset\n",
    "\n",
    "We will use customer demographics data (only age)\n",
    "\n",
    "- customer_age_abc.csv"
   ]
  },
  {
   "cell_type": "code",
   "execution_count": 1,
   "metadata": {
    "id": "SIasiO7b2KMl"
   },
   "outputs": [],
   "source": [
    "import pandas as pd\n",
    "import matplotlib as mplot\n",
    "import matplotlib.pyplot as plt\n",
    "import seaborn as sn"
   ]
  },
  {
   "cell_type": "markdown",
   "metadata": {
    "id": "SNizu4cf2KMn"
   },
   "source": [
    "## Age distribution of company ABC"
   ]
  },
  {
   "cell_type": "code",
   "execution_count": 2,
   "metadata": {},
   "outputs": [],
   "source": [
    "# import os\n",
    "# os.getcwd()"
   ]
  },
  {
   "cell_type": "code",
   "execution_count": 3,
   "metadata": {},
   "outputs": [],
   "source": [
    "age_abc_df = pd.read_csv(\"https://raw.githubusercontent.com/manaranjanp/MLCourseV1/main/Session_1/customer_age_abc.csv\")"
   ]
  },
  {
   "cell_type": "code",
   "execution_count": 4,
   "metadata": {
    "id": "a2zZMnCG2KMo"
   },
   "outputs": [],
   "source": [
    "# age_abc_df = pd.read_csv(\"/Users/vikrantdhawan/Dropbox/My Mac (Vikrant’s MacBook Air)/Downloads/Data Science Interviews/ManuRanjan's Pynbs/customer_age_abc.csv\")"
   ]
  },
  {
   "cell_type": "code",
   "execution_count": 6,
   "metadata": {
    "colab": {
     "base_uri": "https://localhost:8080/",
     "height": 206
    },
    "id": "IyuW_1ZE2KMq",
    "outputId": "a7f0ea98-928e-4176-a164-dd929074453a"
   },
   "outputs": [
    {
     "data": {
      "text/html": [
       "<div>\n",
       "<style scoped>\n",
       "    .dataframe tbody tr th:only-of-type {\n",
       "        vertical-align: middle;\n",
       "    }\n",
       "\n",
       "    .dataframe tbody tr th {\n",
       "        vertical-align: top;\n",
       "    }\n",
       "\n",
       "    .dataframe thead th {\n",
       "        text-align: right;\n",
       "    }\n",
       "</style>\n",
       "<table border=\"1\" class=\"dataframe\">\n",
       "  <thead>\n",
       "    <tr style=\"text-align: right;\">\n",
       "      <th></th>\n",
       "      <th>age</th>\n",
       "    </tr>\n",
       "  </thead>\n",
       "  <tbody>\n",
       "    <tr>\n",
       "      <th>53</th>\n",
       "      <td>37</td>\n",
       "    </tr>\n",
       "    <tr>\n",
       "      <th>15</th>\n",
       "      <td>37</td>\n",
       "    </tr>\n",
       "    <tr>\n",
       "      <th>67</th>\n",
       "      <td>39</td>\n",
       "    </tr>\n",
       "    <tr>\n",
       "      <th>13</th>\n",
       "      <td>37</td>\n",
       "    </tr>\n",
       "    <tr>\n",
       "      <th>59</th>\n",
       "      <td>35</td>\n",
       "    </tr>\n",
       "  </tbody>\n",
       "</table>\n",
       "</div>"
      ],
      "text/plain": [
       "    age\n",
       "53   37\n",
       "15   37\n",
       "67   39\n",
       "13   37\n",
       "59   35"
      ]
     },
     "execution_count": 6,
     "metadata": {},
     "output_type": "execute_result"
    }
   ],
   "source": [
    "age_abc_df.sample(5)"
   ]
  },
  {
   "cell_type": "markdown",
   "metadata": {
    "id": "ns6yivHJ2KMr"
   },
   "source": [
    "### Find min and max values"
   ]
  },
  {
   "cell_type": "code",
   "execution_count": 7,
   "metadata": {
    "colab": {
     "base_uri": "https://localhost:8080/"
    },
    "id": "ejZswuev2KMs",
    "outputId": "4f3d5c75-cf3b-4e15-d1c1-b7c67e342a19"
   },
   "outputs": [
    {
     "data": {
      "text/plain": [
       "(31, 47)"
      ]
     },
     "execution_count": 7,
     "metadata": {},
     "output_type": "execute_result"
    }
   ],
   "source": [
    "age_abc_df.age.min(), age_abc_df.age.max()"
   ]
  },
  {
   "cell_type": "markdown",
   "metadata": {
    "id": "nO29shb82KMs"
   },
   "source": [
    "### Histogram  and Density Plots"
   ]
  },
  {
   "cell_type": "code",
   "execution_count": 5,
   "metadata": {
    "colab": {
     "base_uri": "https://localhost:8080/",
     "height": 430
    },
    "id": "m5DuOgWi2KMt",
    "outputId": "d819730b-01d6-4adf-9043-6959dad5bc36"
   },
   "outputs": [
    {
     "data": {
      "image/png": "[encoded data removed]",
      "text/plain": [
       "<Figure size 640x480 with 1 Axes>"
      ]
     },
     "metadata": {},
     "output_type": "display_data"
    }
   ],
   "source": [
    "plt.hist(age_abc_df.age, bins = range(30, 50, 1));"
   ]
  },
  {
   "cell_type": "code",
   "execution_count": 6,
   "metadata": {
    "colab": {
     "base_uri": "https://localhost:8080/",
     "height": 410
    },
    "id": "jLf273wM2KMu",
    "outputId": "7780bb66-1ba2-4045-b725-ad97309641b6"
   },
   "outputs": [
    {
     "data": {
      "image/png": "[encoded data removed]",
      "text/plain": [
       "<Figure size 1200x400 with 1 Axes>"
      ]
     },
     "metadata": {},
     "output_type": "display_data"
    }
   ],
   "source": [
    "plt.figure(figsize = (12, 4))\n",
    "plt.title(\"Distribution of Customer Ages\")\n",
    "sn.kdeplot(age_abc_df.age);"
   ]
  },
  {
   "cell_type": "markdown",
   "metadata": {
    "id": "J_7arfxI2KMv"
   },
   "source": [
    "### Finding Confidence Interval and Outliers\n",
    "\n",
    "- 95% of customers are from which age span?\n",
    "- Are there any outliers?"
   ]
  },
  {
   "cell_type": "code",
   "execution_count": 7,
   "metadata": {
    "colab": {
     "base_uri": "https://localhost:8080/"
    },
    "id": "-plBReHv2KMw",
    "outputId": "f4aadedc-0b75-45b5-f06f-ac8acbf95574"
   },
   "outputs": [
    {
     "data": {
      "text/plain": [
       "(36.11538461538461, 2.1055068449035668)"
      ]
     },
     "execution_count": 7,
     "metadata": {},
     "output_type": "execute_result"
    }
   ],
   "source": [
    "age_abc_df.age.mean(), age_abc_df.age.std()"
   ]
  },
  {
   "cell_type": "code",
   "execution_count": 8,
   "metadata": {
    "id": "azht2eLZ2KMx"
   },
   "outputs": [],
   "source": [
    "from scipy import stats"
   ]
  },
  {
   "cell_type": "code",
   "execution_count": 9,
   "metadata": {
    "id": "oG243MS92KMy"
   },
   "outputs": [],
   "source": [
    "abc_ci_95 = stats.norm.interval(0.95,\n",
    "                                loc=age_abc_df.age.mean(),\n",
    "                                scale=age_abc_df.age.std())"
   ]
  },
  {
   "cell_type": "code",
   "execution_count": 10,
   "metadata": {
    "colab": {
     "base_uri": "https://localhost:8080/"
    },
    "id": "l-RDijVa2KMz",
    "outputId": "3fe33de8-9058-4ce3-cac1-5e7a1962d505"
   },
   "outputs": [
    {
     "data": {
      "text/plain": [
       "(31.98866703017106, 40.24210220059817)"
      ]
     },
     "execution_count": 10,
     "metadata": {},
     "output_type": "execute_result"
    }
   ],
   "source": [
    "abc_ci_95"
   ]
  },
  {
   "cell_type": "code",
   "execution_count": 11,
   "metadata": {
    "id": "TL4uw6WK2KM0"
   },
   "outputs": [],
   "source": [
    "abc_ci_99_7 = stats.norm.interval(0.997,\n",
    "                                loc=age_abc_df.age.mean(),\n",
    "                                scale=age_abc_df.age.std())"
   ]
  },
  {
   "cell_type": "code",
   "execution_count": 12,
   "metadata": {
    "colab": {
     "base_uri": "https://localhost:8080/"
    },
    "id": "3hA6oM3u2KM0",
    "outputId": "faa68621-343d-4e29-b3b4-8b13a864a975",
    "scrolled": true
   },
   "outputs": [
    {
     "data": {
      "text/plain": [
       "(29.866792099697577, 42.36397713107162)"
      ]
     },
     "execution_count": 12,
     "metadata": {},
     "output_type": "execute_result"
    }
   ],
   "source": [
    "abc_ci_99_7"
   ]
  },
  {
   "cell_type": "markdown",
   "metadata": {
    "id": "Gb_PUWMZ2KM1"
   },
   "source": [
    "#### Are there any outliers"
   ]
  },
  {
   "cell_type": "code",
   "execution_count": 13,
   "metadata": {
    "colab": {
     "base_uri": "https://localhost:8080/",
     "height": 81
    },
    "id": "ZW25sDJJ2KM1",
    "outputId": "a607b229-3079-4aec-e25f-19389f97b3e0"
   },
   "outputs": [
    {
     "data": {
      "text/html": [
       "\n",
       "  <div id=\"df-27faf1a9-3aee-4ec6-a1f3-a3e999fe990d\" class=\"colab-df-container\">\n",
       "    <div>\n",
       "<style scoped>\n",
       "    .dataframe tbody tr th:only-of-type {\n",
       "        vertical-align: middle;\n",
       "    }\n",
       "\n",
       "    .dataframe tbody tr th {\n",
       "        vertical-align: top;\n",
       "    }\n",
       "\n",
       "    .dataframe thead th {\n",
       "        text-align: right;\n",
       "    }\n",
       "</style>\n",
       "<table border=\"1\" class=\"dataframe\">\n",
       "  <thead>\n",
       "    <tr style=\"text-align: right;\">\n",
       "      <th></th>\n",
       "      <th>age</th>\n",
       "    </tr>\n",
       "  </thead>\n",
       "  <tbody>\n",
       "    <tr>\n",
       "      <th>102</th>\n",
       "      <td>47</td>\n",
       "    </tr>\n",
       "  </tbody>\n",
       "</table>\n",
       "</div>\n",
       "    <div class=\"colab-df-buttons\">\n",
       "\n",
       "  <div class=\"colab-df-container\">\n",
       "    <button class=\"colab-df-convert\" onclick=\"convertToInteractive('df-27faf1a9-3aee-4ec6-a1f3-a3e999fe990d')\"\n",
       "            title=\"Convert this dataframe to an interactive table.\"\n",
       "            style=\"display:none;\">\n",
       "\n",
       "  <svg xmlns=\"http://www.w3.org/2000/svg\" height=\"24px\" viewBox=\"0 -960 960 960\">\n",
       "    <path d=\"M120-120v-720h720v720H120Zm60-500h600v-160H180v160Zm220 220h160v-160H400v160Zm0 220h160v-160H400v160ZM180-400h160v-160H180v160Zm440 0h160v-160H620v160ZM180-180h160v-160H180v160Zm440 0h160v-160H620v160Z\"/>\n",
       "  </svg>\n",
       "    </button>\n",
       "\n",
       "  <style>\n",
       "    .colab-df-container {\n",
       "      display:flex;\n",
       "      gap: 12px;\n",
       "    }\n",
       "\n",
       "    .colab-df-convert {\n",
       "      background-color: #E8F0FE;\n",
       "      border: none;\n",
       "      border-radius: 50%;\n",
       "      cursor: pointer;\n",
       "      display: none;\n",
       "      fill: #1967D2;\n",
       "      height: 32px;\n",
       "      padding: 0 0 0 0;\n",
       "      width: 32px;\n",
       "    }\n",
       "\n",
       "    .colab-df-convert:hover {\n",
       "      background-color: #E2EBFA;\n",
       "      box-shadow: 0px 1px 2px rgba(60, 64, 67, 0.3), 0px 1px 3px 1px rgba(60, 64, 67, 0.15);\n",
       "      fill: #174EA6;\n",
       "    }\n",
       "\n",
       "    .colab-df-buttons div {\n",
       "      margin-bottom: 4px;\n",
       "    }\n",
       "\n",
       "    [theme=dark] .colab-df-convert {\n",
       "      background-color: #3B4455;\n",
       "      fill: #D2E3FC;\n",
       "    }\n",
       "\n",
       "    [theme=dark] .colab-df-convert:hover {\n",
       "      background-color: #434B5C;\n",
       "      box-shadow: 0px 1px 3px 1px rgba(0, 0, 0, 0.15);\n",
       "      filter: drop-shadow(0px 1px 2px rgba(0, 0, 0, 0.3));\n",
       "      fill: #FFFFFF;\n",
       "    }\n",
       "  </style>\n",
       "\n",
       "    <script>\n",
       "      const buttonEl =\n",
       "        document.querySelector('#df-27faf1a9-3aee-4ec6-a1f3-a3e999fe990d button.colab-df-convert');\n",
       "      buttonEl.style.display =\n",
       "        google.colab.kernel.accessAllowed ? 'block' : 'none';\n",
       "\n",
       "      async function convertToInteractive(key) {\n",
       "        const element = document.querySelector('#df-27faf1a9-3aee-4ec6-a1f3-a3e999fe990d');\n",
       "        const dataTable =\n",
       "          await google.colab.kernel.invokeFunction('convertToInteractive',\n",
       "                                                    [key], {});\n",
       "        if (!dataTable) return;\n",
       "\n",
       "        const docLinkHtml = 'Like what you see? Visit the ' +\n",
       "          '<a target=\"_blank\" href=https://colab.research.google.com/notebooks/data_table.ipynb>data table notebook</a>'\n",
       "          + ' to learn more about interactive tables.';\n",
       "        element.innerHTML = '';\n",
       "        dataTable['output_type'] = 'display_data';\n",
       "        await google.colab.output.renderOutput(dataTable, element);\n",
       "        const docLink = document.createElement('div');\n",
       "        docLink.innerHTML = docLinkHtml;\n",
       "        element.appendChild(docLink);\n",
       "      }\n",
       "    </script>\n",
       "  </div>\n",
       "\n",
       "    </div>\n",
       "  </div>\n"
      ],
      "text/plain": [
       "     age\n",
       "102   47"
      ]
     },
     "execution_count": 13,
     "metadata": {},
     "output_type": "execute_result"
    }
   ],
   "source": [
    "age_abc_df[age_abc_df.age > abc_ci_99_7[1]]"
   ]
  },
  {
   "cell_type": "markdown",
   "metadata": {
    "id": "gz3mjEgP2KM2"
   },
   "source": [
    "## Age distribution of company XYZ\n",
    "\n",
    "Let's look at a different scenario where the distribution looks very different.\n",
    "\n",
    "### Dataset\n",
    "\n",
    "We will use customer demographics data (only age)\n",
    "\n",
    "- customer_age_abc.csv"
   ]
  },
  {
   "cell_type": "code",
   "execution_count": 8,
   "metadata": {
    "id": "66UtZhhk2KM2"
   },
   "outputs": [],
   "source": [
    "age_xyz_df = pd.read_csv(\"https://raw.githubusercontent.com/manaranjanp/MLCourseV1/main/Session_1/customer_age_xyz.csv\")"
   ]
  },
  {
   "cell_type": "code",
   "execution_count": 9,
   "metadata": {
    "colab": {
     "base_uri": "https://localhost:8080/",
     "height": 363
    },
    "id": "OfZR7Lhi2KM2",
    "outputId": "495160b1-f243-4c21-dffc-7fe020c84752"
   },
   "outputs": [
    {
     "data": {
      "text/html": [
       "<div>\n",
       "<style scoped>\n",
       "    .dataframe tbody tr th:only-of-type {\n",
       "        vertical-align: middle;\n",
       "    }\n",
       "\n",
       "    .dataframe tbody tr th {\n",
       "        vertical-align: top;\n",
       "    }\n",
       "\n",
       "    .dataframe thead th {\n",
       "        text-align: right;\n",
       "    }\n",
       "</style>\n",
       "<table border=\"1\" class=\"dataframe\">\n",
       "  <thead>\n",
       "    <tr style=\"text-align: right;\">\n",
       "      <th></th>\n",
       "      <th>age</th>\n",
       "    </tr>\n",
       "  </thead>\n",
       "  <tbody>\n",
       "    <tr>\n",
       "      <th>0</th>\n",
       "      <td>32</td>\n",
       "    </tr>\n",
       "    <tr>\n",
       "      <th>19</th>\n",
       "      <td>32</td>\n",
       "    </tr>\n",
       "    <tr>\n",
       "      <th>67</th>\n",
       "      <td>35</td>\n",
       "    </tr>\n",
       "    <tr>\n",
       "      <th>25</th>\n",
       "      <td>54</td>\n",
       "    </tr>\n",
       "    <tr>\n",
       "      <th>102</th>\n",
       "      <td>54</td>\n",
       "    </tr>\n",
       "    <tr>\n",
       "      <th>40</th>\n",
       "      <td>38</td>\n",
       "    </tr>\n",
       "    <tr>\n",
       "      <th>16</th>\n",
       "      <td>33</td>\n",
       "    </tr>\n",
       "    <tr>\n",
       "      <th>26</th>\n",
       "      <td>28</td>\n",
       "    </tr>\n",
       "    <tr>\n",
       "      <th>58</th>\n",
       "      <td>32</td>\n",
       "    </tr>\n",
       "    <tr>\n",
       "      <th>93</th>\n",
       "      <td>36</td>\n",
       "    </tr>\n",
       "  </tbody>\n",
       "</table>\n",
       "</div>"
      ],
      "text/plain": [
       "     age\n",
       "0     32\n",
       "19    32\n",
       "67    35\n",
       "25    54\n",
       "102   54\n",
       "40    38\n",
       "16    33\n",
       "26    28\n",
       "58    32\n",
       "93    36"
      ]
     },
     "execution_count": 9,
     "metadata": {},
     "output_type": "execute_result"
    }
   ],
   "source": [
    "age_xyz_df.sample(10)"
   ]
  },
  {
   "cell_type": "markdown",
   "metadata": {
    "id": "DrEFa2MD2KM3"
   },
   "source": [
    "### Histogram and Density Plots"
   ]
  },
  {
   "cell_type": "code",
   "execution_count": 10,
   "metadata": {
    "colab": {
     "base_uri": "https://localhost:8080/"
    },
    "id": "8fMGK1uZ2KM3",
    "outputId": "b518d1cd-4974-4b2e-f7d5-ceb46b3d2599"
   },
   "outputs": [
    {
     "data": {
      "text/plain": [
       "(24, 61)"
      ]
     },
     "execution_count": 10,
     "metadata": {},
     "output_type": "execute_result"
    }
   ],
   "source": [
    "age_xyz_df.age.min(), age_xyz_df.age.max()"
   ]
  },
  {
   "cell_type": "code",
   "execution_count": 11,
   "metadata": {
    "colab": {
     "base_uri": "https://localhost:8080/",
     "height": 430
    },
    "id": "7IaSukc92KM4",
    "outputId": "12793f21-fb6f-4ae2-d4a3-6ee5f433d662"
   },
   "outputs": [
    {
     "data": {
      "image/png": "[encoded data removed]",
      "text/plain": [
       "<Figure size 432x288 with 1 Axes>"
      ]
     },
     "metadata": {
      "needs_background": "light"
     },
     "output_type": "display_data"
    }
   ],
   "source": [
    "plt.hist(age_xyz_df.age, bins = range(30, 50, 1));"
   ]
  },
  {
   "cell_type": "code",
   "execution_count": 12,
   "metadata": {
    "colab": {
     "base_uri": "https://localhost:8080/",
     "height": 410
    },
    "id": "aId2hVov2KM4",
    "outputId": "41a96aec-11b6-4948-cd5c-ccfc1c5eba8c"
   },
   "outputs": [
    {
     "data": {
      "image/png": "[encoded data removed]",
      "text/plain": [
       "<Figure size 864x288 with 1 Axes>"
      ]
     },
     "metadata": {
      "needs_background": "light"
     },
     "output_type": "display_data"
    }
   ],
   "source": [
    "plt.figure(figsize = (12, 4))\n",
    "plt.title(\"Distribution of Customer Ages\")\n",
    "sn.kdeplot(age_abc_df.age, label = 'ABC');\n",
    "sn.kdeplot(age_xyz_df.age, label = 'XYZ');"
   ]
  },
  {
   "cell_type": "markdown",
   "metadata": {
    "id": "I6pP9h7_2KM4"
   },
   "source": [
    "### Finding Confidence Interval and Outliers"
   ]
  },
  {
   "cell_type": "code",
   "execution_count": 14,
   "metadata": {
    "colab": {
     "base_uri": "https://localhost:8080/"
    },
    "id": "mvmbcVOH2KM5",
    "outputId": "179048d4-c136-41f8-b214-6cb9a3da6680"
   },
   "outputs": [
    {
     "data": {
      "text/plain": [
       "(35.99047619047619, 6.527302479254172)"
      ]
     },
     "execution_count": 14,
     "metadata": {},
     "output_type": "execute_result"
    }
   ],
   "source": [
    "age_xyz_df.age.mean(), age_xyz_df.age.std()"
   ]
  },
  {
   "cell_type": "code",
   "execution_count": 15,
   "metadata": {
    "id": "i-s8s6Zz2KM6"
   },
   "outputs": [],
   "source": [
    "from scipy import stats"
   ]
  },
  {
   "cell_type": "code",
   "execution_count": 16,
   "metadata": {
    "id": "BvIiE9DH2KM7"
   },
   "outputs": [],
   "source": [
    "xyz_ci_95 = stats.norm.interval(0.95,\n",
    "                                loc=age_xyz_df.age.mean(),\n",
    "                                scale=age_xyz_df.age.std())"
   ]
  },
  {
   "cell_type": "code",
   "execution_count": 17,
   "metadata": {
    "colab": {
     "base_uri": "https://localhost:8080/"
    },
    "id": "0S9W80xb2KM7",
    "outputId": "6d3a00b7-e0eb-4424-8288-4f82b17aed4c"
   },
   "outputs": [
    {
     "data": {
      "text/plain": [
       "(23.197198414939006, 48.783753966013364)"
      ]
     },
     "execution_count": 17,
     "metadata": {},
     "output_type": "execute_result"
    }
   ],
   "source": [
    "xyz_ci_95"
   ]
  },
  {
   "cell_type": "code",
   "execution_count": 18,
   "metadata": {
    "id": "S0pmNTOb2KM8"
   },
   "outputs": [],
   "source": [
    "xyz_ci_99_7 = stats.norm.interval(0.997,\n",
    "                                loc=age_xyz_df.age.mean(),\n",
    "                                scale=age_xyz_df.age.std())"
   ]
  },
  {
   "cell_type": "code",
   "execution_count": 19,
   "metadata": {
    "colab": {
     "base_uri": "https://localhost:8080/"
    },
    "id": "IZPqYogb2KM8",
    "outputId": "44c57e7b-261c-4a71-83ba-1a536e2b6588",
    "scrolled": true
   },
   "outputs": [
    {
     "data": {
      "text/plain": [
       "(16.619153072616133, 55.36179930833617)"
      ]
     },
     "execution_count": 19,
     "metadata": {},
     "output_type": "execute_result"
    }
   ],
   "source": [
    "xyz_ci_99_7"
   ]
  },
  {
   "cell_type": "code",
   "execution_count": 20,
   "metadata": {
    "colab": {
     "base_uri": "https://localhost:8080/",
     "height": 112
    },
    "id": "pNiZtRsT2KM8",
    "outputId": "2f04ce60-c4cb-4922-9987-57dd8340ed87"
   },
   "outputs": [
    {
     "data": {
      "text/html": [
       "<div>\n",
       "<style scoped>\n",
       "    .dataframe tbody tr th:only-of-type {\n",
       "        vertical-align: middle;\n",
       "    }\n",
       "\n",
       "    .dataframe tbody tr th {\n",
       "        vertical-align: top;\n",
       "    }\n",
       "\n",
       "    .dataframe thead th {\n",
       "        text-align: right;\n",
       "    }\n",
       "</style>\n",
       "<table border=\"1\" class=\"dataframe\">\n",
       "  <thead>\n",
       "    <tr style=\"text-align: right;\">\n",
       "      <th></th>\n",
       "      <th>age</th>\n",
       "    </tr>\n",
       "  </thead>\n",
       "  <tbody>\n",
       "    <tr>\n",
       "      <th>103</th>\n",
       "      <td>61</td>\n",
       "    </tr>\n",
       "    <tr>\n",
       "      <th>104</th>\n",
       "      <td>59</td>\n",
       "    </tr>\n",
       "  </tbody>\n",
       "</table>\n",
       "</div>"
      ],
      "text/plain": [
       "     age\n",
       "103   61\n",
       "104   59"
      ]
     },
     "execution_count": 20,
     "metadata": {},
     "output_type": "execute_result"
    }
   ],
   "source": [
    "age_xyz_df[age_xyz_df.age > xyz_ci_99_7[1]]"
   ]
  },
  {
   "cell_type": "markdown",
   "metadata": {
    "id": "y95qLUUG2KM9"
   },
   "source": [
    "### Note:\n",
    "\n",
    "- Are there any problem with finding outliers using 3 standard deviation approch?\n",
    "- This is approach is not very robust as the mean and standard deviations are very sensitive to outliers.\n"
   ]
  },
  {
   "cell_type": "markdown",
   "metadata": {
    "id": "FOql9TJB2KM9"
   },
   "source": [
    "## Finding outliers using Box Plot\n",
    "\n",
    "- A boxplot displays the distribution of data based on a five number summary (“minimum”, first quartile (Q1), median, third quartile (Q3), and “maximum”).\n",
    "\n",
    "- It can find outliers and what their values are. It can also tell if the data is symmetrical, how tightly the data is grouped, and if the data is skewed.\n",
    "\n",
    "- The minimum or lowest value of the dataset\n",
    "\n",
    "\n",
    "Source: https://towardsdatascience.com/understanding-boxplots-5e2df7bcbd51\n",
    "\n",
    "<img src=\"https://github.com/manaranjanp/MLCourseV1/blob/main/Session_1/box.png?raw=1\" alt=\"Nowmal Distribution\" width=\"500\"/>"
   ]
  },
  {
   "cell_type": "code",
   "execution_count": 26,
   "metadata": {
    "colab": {
     "base_uri": "https://localhost:8080/",
     "height": 388
    },
    "id": "YAwNAj3w2KM-",
    "outputId": "dfdaa37a-db5e-4fb3-cc78-e17dfde07c05"
   },
   "outputs": [
    {
     "data": {
      "image/png": "[encoded data removed]",
      "text/plain": [
       "<Figure size 1200x400 with 1 Axes>"
      ]
     },
     "metadata": {},
     "output_type": "display_data"
    }
   ],
   "source": [
    "plt.figure(figsize=(12,4))\n",
    "sn.boxplot(x = age_xyz_df.age, orient = 'h' );"
   ]
  },
  {
   "cell_type": "markdown",
   "metadata": {
    "id": "_8CaEDXX2KM_"
   },
   "source": [
    "#### Finding median, IQR, min and max values\n",
    "\n",
    "The range is that is less sensitive to outliers is the interquartile range. The interquartile range is calculated by subtracting the first quartile from the third quartile:\n",
    "\n",
    "**IQR = Q3 – Q1**\n",
    "\n",
    "Though it's not often affected much by them, the interquartile range can be used to detect outliers. This is done using these steps:\n",
    "\n",
    "\n",
    "- Calculate the interquartile range for the data.\n",
    "- Multiply the interquartile range (IQR) by 1.5 (a constant used to discern outliers).\n",
    "- Add 1.5 x (IQR) to the third quartile. Any number greater than this is a suspected outlier.\n",
    "- Subtract 1.5 x (IQR) from the first quartile. Any number less than this is a suspected outlier.\n",
    "\n",
    "Source: https://www.thoughtco.com/what-is-the-interquartile-range-rule-3126244"
   ]
  },
  {
   "cell_type": "code",
   "execution_count": 21,
   "metadata": {
    "colab": {
     "base_uri": "https://localhost:8080/"
    },
    "id": "5E3QRNxX2KM_",
    "outputId": "dd03b4c9-bd56-4afb-ef53-8b9f6e842b71"
   },
   "outputs": [
    {
     "data": {
      "text/plain": [
       "36.0"
      ]
     },
     "execution_count": 21,
     "metadata": {},
     "output_type": "execute_result"
    }
   ],
   "source": [
    "age_xyz_df.age.median()"
   ]
  },
  {
   "cell_type": "code",
   "execution_count": 22,
   "metadata": {
    "colab": {
     "base_uri": "https://localhost:8080/"
    },
    "id": "ufuys2y52KNk",
    "outputId": "0a2dbb86-b990-4b66-a092-5120a72e2c5f"
   },
   "outputs": [
    {
     "data": {
      "text/plain": [
       "count    105.000000\n",
       "mean      35.990476\n",
       "std        6.527302\n",
       "min       24.000000\n",
       "25%       32.000000\n",
       "50%       36.000000\n",
       "75%       39.000000\n",
       "max       61.000000\n",
       "Name: age, dtype: float64"
      ]
     },
     "execution_count": 22,
     "metadata": {},
     "output_type": "execute_result"
    }
   ],
   "source": [
    "age_stats = age_xyz_df.age.describe()\n",
    "age_stats"
   ]
  },
  {
   "cell_type": "code",
   "execution_count": 23,
   "metadata": {
    "id": "3ehKymaT2KNl"
   },
   "outputs": [],
   "source": [
    "from scipy import stats"
   ]
  },
  {
   "cell_type": "code",
   "execution_count": 24,
   "metadata": {
    "colab": {
     "base_uri": "https://localhost:8080/"
    },
    "id": "gM_F1Xi12KNl",
    "outputId": "69610d96-5cf8-44a1-92d6-7f7495fa1c08"
   },
   "outputs": [
    {
     "data": {
      "text/plain": [
       "7.0"
      ]
     },
     "execution_count": 24,
     "metadata": {},
     "output_type": "execute_result"
    }
   ],
   "source": [
    "iqr = stats.iqr(age_xyz_df.age)\n",
    "iqr"
   ]
  },
  {
   "cell_type": "code",
   "execution_count": 25,
   "metadata": {
    "id": "nAYA-MJx2KNm"
   },
   "outputs": [],
   "source": [
    "min_age = age_stats['25%'] - 1.5 * iqr\n",
    "max_age = age_stats['75%'] + 1.5 * iqr"
   ]
  },
  {
   "cell_type": "code",
   "execution_count": 26,
   "metadata": {
    "colab": {
     "base_uri": "https://localhost:8080/"
    },
    "id": "SASgK6U42KNm",
    "outputId": "cf4162e4-ab64-43c6-fa37-83a9f9dd5eaf"
   },
   "outputs": [
    {
     "data": {
      "text/plain": [
       "(21.5, 49.5)"
      ]
     },
     "execution_count": 26,
     "metadata": {},
     "output_type": "execute_result"
    }
   ],
   "source": [
    "min_age, max_age"
   ]
  },
  {
   "cell_type": "markdown",
   "metadata": {
    "id": "m7VqjyNh2KNm"
   },
   "source": [
    "### Any outliers"
   ]
  },
  {
   "cell_type": "code",
   "execution_count": 27,
   "metadata": {
    "colab": {
     "base_uri": "https://localhost:8080/",
     "height": 206
    },
    "id": "wdony3Dp2KNm",
    "outputId": "21a276b6-6a59-48ad-b9e9-550bcfe4152a"
   },
   "outputs": [
    {
     "data": {
      "text/html": [
       "<div>\n",
       "<style scoped>\n",
       "    .dataframe tbody tr th:only-of-type {\n",
       "        vertical-align: middle;\n",
       "    }\n",
       "\n",
       "    .dataframe tbody tr th {\n",
       "        vertical-align: top;\n",
       "    }\n",
       "\n",
       "    .dataframe thead th {\n",
       "        text-align: right;\n",
       "    }\n",
       "</style>\n",
       "<table border=\"1\" class=\"dataframe\">\n",
       "  <thead>\n",
       "    <tr style=\"text-align: right;\">\n",
       "      <th></th>\n",
       "      <th>age</th>\n",
       "    </tr>\n",
       "  </thead>\n",
       "  <tbody>\n",
       "    <tr>\n",
       "      <th>25</th>\n",
       "      <td>54</td>\n",
       "    </tr>\n",
       "    <tr>\n",
       "      <th>34</th>\n",
       "      <td>51</td>\n",
       "    </tr>\n",
       "    <tr>\n",
       "      <th>102</th>\n",
       "      <td>54</td>\n",
       "    </tr>\n",
       "    <tr>\n",
       "      <th>103</th>\n",
       "      <td>61</td>\n",
       "    </tr>\n",
       "    <tr>\n",
       "      <th>104</th>\n",
       "      <td>59</td>\n",
       "    </tr>\n",
       "  </tbody>\n",
       "</table>\n",
       "</div>"
      ],
      "text/plain": [
       "     age\n",
       "25    54\n",
       "34    51\n",
       "102   54\n",
       "103   61\n",
       "104   59"
      ]
     },
     "execution_count": 27,
     "metadata": {},
     "output_type": "execute_result"
    }
   ],
   "source": [
    "age_xyz_df[age_xyz_df.age > max_age]"
   ]
  }
 ],
 "metadata": {
  "colab": {
   "provenance": []
  },
  "kernelspec": {
   "display_name": "Python 3",
   "language": "python",
   "name": "python3"
  },
  "language_info": {
   "codemirror_mode": {
    "name": "ipython",
    "version": 3
   },
   "file_extension": ".py",
   "mimetype": "text/x-python",
   "name": "python",
   "nbconvert_exporter": "python",
   "pygments_lexer": "ipython3",
   "version": "3.8.8"
  }
 },
 "nbformat": 4,
 "nbformat_minor": 1
}
